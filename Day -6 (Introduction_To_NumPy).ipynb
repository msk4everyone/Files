{
 "cells": [
  {
   "cell_type": "markdown",
   "id": "e61371ea",
   "metadata": {},
   "source": [
    "### NumPy\n",
    "\n",
    "- NumPy stands for Numerical Python\n",
    "- A Python library that provides support for large, multi-dimensional arrays and matrices, along with a large collection of high-level mathematical functions to operate on these arrays\n",
    "\n",
    "#### Why NumPy?\n",
    "\n",
    "- NumPy aims to provide an array object that is up to 50x faster than traditional Python lists\n",
    "- The array object in NumPy is called ndarray; it provides a lot of supporting functions that make working with ndarray very easy\n",
    "- NumPy arrays are stored at one continuous place in memory unlike lists, so processes can access and manipulate them very efficiently which is the main reason why the former is faster than the latter\n"
   ]
  },
  {
   "cell_type": "code",
   "execution_count": null,
   "id": "f9e6c774",
   "metadata": {},
   "outputs": [],
   "source": [
    "## Installing packages\n",
    "# !pip install package name\n",
    "#(or) !conda install package name"
   ]
  },
  {
   "cell_type": "code",
   "execution_count": 1,
   "id": "c4f3f16c",
   "metadata": {},
   "outputs": [],
   "source": [
    "# loading numpy package\n",
    "import numpy as np"
   ]
  },
  {
   "cell_type": "markdown",
   "id": "921a7241",
   "metadata": {},
   "source": [
    "#### Creating ndarrays"
   ]
  },
  {
   "cell_type": "code",
   "execution_count": 5,
   "id": "1c5e7741",
   "metadata": {},
   "outputs": [
    {
     "data": {
      "text/plain": [
       "array([1, 2, 3, 4])"
      ]
     },
     "execution_count": 5,
     "metadata": {},
     "output_type": "execute_result"
    }
   ],
   "source": [
    "## Creating an array of integers using array() method\n",
    "arr=np.array([1,2,3,4])  \n",
    "arr"
   ]
  },
  {
   "cell_type": "code",
   "execution_count": 6,
   "id": "48a3fb56",
   "metadata": {},
   "outputs": [
    {
     "data": {
      "text/plain": [
       "numpy.ndarray"
      ]
     },
     "execution_count": 6,
     "metadata": {},
     "output_type": "execute_result"
    }
   ],
   "source": [
    "type(arr)"
   ]
  },
  {
   "cell_type": "markdown",
   "id": "3d996929",
   "metadata": {},
   "source": [
    "To create an ndarray, we can pass a list, tuple or any array-like object into the array() method, and it will be converted into an ndarray"
   ]
  },
  {
   "cell_type": "code",
   "execution_count": 7,
   "id": "0300c512",
   "metadata": {},
   "outputs": [
    {
     "data": {
      "text/plain": [
       "array([[0., 0., 0.],\n",
       "       [0., 0., 0.]])"
      ]
     },
     "execution_count": 7,
     "metadata": {},
     "output_type": "execute_result"
    }
   ],
   "source": [
    "## Creating array of zeros and ones\n",
    "arr1=np.zeros((2,3))\n",
    "arr1"
   ]
  },
  {
   "cell_type": "code",
   "execution_count": 8,
   "id": "0d700b87",
   "metadata": {},
   "outputs": [
    {
     "data": {
      "text/plain": [
       "array([[1., 1., 1., 1., 1.]])"
      ]
     },
     "execution_count": 8,
     "metadata": {},
     "output_type": "execute_result"
    }
   ],
   "source": [
    "arr2=np.ones((1,5))\n",
    "arr2"
   ]
  },
  {
   "cell_type": "code",
   "execution_count": 9,
   "id": "41d5881b",
   "metadata": {},
   "outputs": [
    {
     "data": {
      "text/plain": [
       "array([0, 1, 2, 3])"
      ]
     },
     "execution_count": 9,
     "metadata": {},
     "output_type": "execute_result"
    }
   ],
   "source": [
    "## Creating array using arange()\n",
    "## arange() is an array creation routine based on numerical ranges\n",
    "## It creates an instance of ndarray with evenly spaced values and returns the reference to it\n",
    "arr3=np.arange(4)\n",
    "arr3"
   ]
  },
  {
   "cell_type": "markdown",
   "id": "e329fb55",
   "metadata": {},
   "source": [
    "numpy.arange([start, ]stop, [step, ], dtype=None) -> numpy.ndarray\n",
    "\n",
    "The first three parameters determine the range of the values, while the fourth specifies the type of the elements:\n",
    "\n",
    "- start is the number (integer or decimal) that defines the first value in the array\n",
    "- stop is the number that defines the end of the array and isn’t included in the array\n",
    "- step is the number that defines the spacing (difference) between each two consecutive values in the array and defaults to 1\n",
    "- dtype is the type of the elements of the output array and defaults to None"
   ]
  },
  {
   "cell_type": "code",
   "execution_count": 11,
   "id": "4f611ca6",
   "metadata": {},
   "outputs": [
    {
     "data": {
      "text/plain": [
       "array([ 1,  4,  7, 10, 13])"
      ]
     },
     "execution_count": 11,
     "metadata": {},
     "output_type": "execute_result"
    }
   ],
   "source": [
    "arr4=np.arange(1,15,3,dtype=np.int32)\n",
    "arr4"
   ]
  },
  {
   "cell_type": "markdown",
   "id": "b9031cfa",
   "metadata": {},
   "source": [
    "#### Dimensions in Arrays\n",
    "A dimension in arrays is one level of array depth (nested arrays)\n",
    "\n",
    "`Nested array: arrays that have arrays as their elements`"
   ]
  },
  {
   "cell_type": "code",
   "execution_count": 12,
   "id": "abebe507",
   "metadata": {},
   "outputs": [
    {
     "data": {
      "text/plain": [
       "array(2)"
      ]
     },
     "execution_count": 12,
     "metadata": {},
     "output_type": "execute_result"
    }
   ],
   "source": [
    "## 0-D arrays, or Scalars, are the elements in an array \n",
    "## Each value in an array is a 0-D array\n",
    "a=np.array(2)\n",
    "a"
   ]
  },
  {
   "cell_type": "code",
   "execution_count": 13,
   "id": "56e15a8e",
   "metadata": {},
   "outputs": [
    {
     "data": {
      "text/plain": [
       "array([13, 14,  5])"
      ]
     },
     "execution_count": 13,
     "metadata": {},
     "output_type": "execute_result"
    }
   ],
   "source": [
    "## An array that has 0-D arrays as its elements is called uni-dimensional or 1-D array\n",
    "## The most common and basic arrays\n",
    "b=np.array([13,14,5])\n",
    "b"
   ]
  },
  {
   "cell_type": "code",
   "execution_count": 14,
   "id": "99540936",
   "metadata": {},
   "outputs": [
    {
     "data": {
      "text/plain": [
       "array([[1, 2, 3],\n",
       "       [4, 5, 6]])"
      ]
     },
     "execution_count": 14,
     "metadata": {},
     "output_type": "execute_result"
    }
   ],
   "source": [
    "## An array that has 1-D arrays as its elements is called a 2-D array\n",
    "## Often used to represent matrix or 2nd order tensors\n",
    "c=np.array([[1,2,3],[4,5,6]])\n",
    "c"
   ]
  },
  {
   "cell_type": "code",
   "execution_count": 15,
   "id": "c78b8e42",
   "metadata": {},
   "outputs": [
    {
     "data": {
      "text/plain": [
       "array([[[ 1,  2,  3],\n",
       "        [ 4,  5,  6]],\n",
       "\n",
       "       [[12, 13, 14],\n",
       "        [15, 34, 56]]])"
      ]
     },
     "execution_count": 15,
     "metadata": {},
     "output_type": "execute_result"
    }
   ],
   "source": [
    "## An array that has 2-D arrays (matrices) as its elements is called 3-D array\n",
    "## These are often used to represent a 3rd order tensor\n",
    "d=np.array([[[1,2,3],[4,5,6]],[[12,13,14],[15,34,56]]])\n",
    "d"
   ]
  },
  {
   "cell_type": "code",
   "execution_count": 16,
   "id": "ae2c331c",
   "metadata": {},
   "outputs": [
    {
     "name": "stdout",
     "output_type": "stream",
     "text": [
      "0\n",
      "1\n",
      "2\n",
      "3\n"
     ]
    }
   ],
   "source": [
    "## Checking dimensions\n",
    "## ndim attribute returns an integer that indicates how many dimensions the array has\n",
    "print(a.ndim)\n",
    "print(b.ndim);print(c.ndim);print(d.ndim)"
   ]
  },
  {
   "cell_type": "code",
   "execution_count": 17,
   "id": "6a241458",
   "metadata": {},
   "outputs": [
    {
     "name": "stdout",
     "output_type": "stream",
     "text": [
      "[[[[[1 2 3 4]]]]]\n",
      "5\n"
     ]
    }
   ],
   "source": [
    "## Creating higher dimensional arrays by defining the number of dimensions by using the ndmin argument\n",
    "# Specifies minimum dimensions of resultant array.\n",
    "e=np.array([1,2,3,4],ndmin=5)\n",
    "print(e);print(e.ndim)"
   ]
  },
  {
   "cell_type": "markdown",
   "id": "ab7ddb36",
   "metadata": {},
   "source": [
    "In this array the innermost dimension (5th dim) has 4 elements, the 4th dim has 1 element that is the vector, the 3rd dim has 1 element that is the matrix with the vector, the 2nd dim has 1 element that is 3D array and 1st dim has 1 element that is a 4D array."
   ]
  },
  {
   "cell_type": "markdown",
   "id": "906477b4",
   "metadata": {},
   "source": [
    "#### Array Indexing\n",
    "\n",
    "- Array indexing means accessing an array element by referring to its index number\n",
    "- The indexes in NumPy arrays start with 0, meaning that the first element has index 0, and the second has index 1, etc"
   ]
  },
  {
   "cell_type": "code",
   "execution_count": 18,
   "id": "d6b14e46",
   "metadata": {},
   "outputs": [
    {
     "data": {
      "text/plain": [
       "array([23, 34, 67,  5, 84])"
      ]
     },
     "execution_count": 18,
     "metadata": {},
     "output_type": "execute_result"
    }
   ],
   "source": [
    "arr1=np.array([23,34,67,5,84])\n",
    "arr1"
   ]
  },
  {
   "cell_type": "code",
   "execution_count": 19,
   "id": "01b25ce5",
   "metadata": {},
   "outputs": [
    {
     "data": {
      "text/plain": [
       "34"
      ]
     },
     "execution_count": 19,
     "metadata": {},
     "output_type": "execute_result"
    }
   ],
   "source": [
    "## Accessing the second element of the array 'arr1'\n",
    "arr1[1]"
   ]
  },
  {
   "cell_type": "code",
   "execution_count": 20,
   "id": "63e292c1",
   "metadata": {},
   "outputs": [
    {
     "data": {
      "text/plain": [
       "5"
      ]
     },
     "execution_count": 20,
     "metadata": {},
     "output_type": "execute_result"
    }
   ],
   "source": [
    "## Accessing the 4th element\n",
    "arr1[3]"
   ]
  },
  {
   "cell_type": "code",
   "execution_count": 21,
   "id": "5291d325",
   "metadata": {},
   "outputs": [
    {
     "data": {
      "text/plain": [
       "72"
      ]
     },
     "execution_count": 21,
     "metadata": {},
     "output_type": "execute_result"
    }
   ],
   "source": [
    "## Getting third and fourth elements from the above array and adding them\n",
    "arr1[2]+arr1[3]"
   ]
  },
  {
   "cell_type": "code",
   "execution_count": 22,
   "id": "85ffdc06",
   "metadata": {},
   "outputs": [],
   "source": [
    "## To access elements from 2-D arrays we can use comma separated integers\n",
    "## representing the dimension and the index of the element\n",
    "arr2 = np.array([[1,2,3,4,5], [6,7,8,9,10]])"
   ]
  },
  {
   "cell_type": "code",
   "execution_count": 24,
   "id": "064f7ace",
   "metadata": {},
   "outputs": [
    {
     "data": {
      "text/plain": [
       "5"
      ]
     },
     "execution_count": 24,
     "metadata": {},
     "output_type": "execute_result"
    }
   ],
   "source": [
    "# extract the value '5'\n",
    "arr2[0][4]"
   ]
  },
  {
   "cell_type": "code",
   "execution_count": 25,
   "id": "6706e4be",
   "metadata": {},
   "outputs": [
    {
     "data": {
      "text/plain": [
       "5"
      ]
     },
     "execution_count": 25,
     "metadata": {},
     "output_type": "execute_result"
    }
   ],
   "source": [
    "arr2[0,4]"
   ]
  },
  {
   "cell_type": "code",
   "execution_count": 26,
   "id": "86d6483f",
   "metadata": {},
   "outputs": [
    {
     "data": {
      "text/plain": [
       "6"
      ]
     },
     "execution_count": 26,
     "metadata": {},
     "output_type": "execute_result"
    }
   ],
   "source": [
    "## To access elements from 3-D arrays we can use comma separated integers \n",
    "## representing the dimensions and the index of the element\n",
    "arr3 = np.array([[[1, 2, 3], [4, 5, 6]], [[7, 8, 9], [10, 11, 12]]])\n",
    "## Accessing the third element of the second array of the first array\n",
    "arr3[0,1,2]"
   ]
  },
  {
   "cell_type": "markdown",
   "id": "62ad9930",
   "metadata": {},
   "source": [
    "##### Explanation of above example\n",
    "\n",
    "`arr[0, 1, 2]` prints the value `6`.\n",
    "\n",
    "And this is why:\n",
    "\n",
    "The first number represents the first dimension, which contains two arrays: `[[1, 2, 3], [4, 5, 6]]` and `[[7, 8, 9], [10, 11, 12]]`\n",
    "\n",
    "Since we selected 0, we are left with the first array: `[[1, 2, 3], [4, 5, 6]]`\n",
    "\n",
    "The second number represents the second dimension, which also contains two arrays: `[1, 2, 3]` and `[4, 5, 6]`\n",
    "\n",
    "Since we selected 1, we are left with the second array: `[4, 5, 6]`\n",
    "\n",
    "The third number represents the third dimension, which contains three values: 4, 5, 6\n",
    "\n",
    "Since we selected 2, we end up with the third value: 6"
   ]
  },
  {
   "cell_type": "code",
   "execution_count": 27,
   "id": "61d48daa",
   "metadata": {},
   "outputs": [
    {
     "data": {
      "text/plain": [
       "10"
      ]
     },
     "execution_count": 27,
     "metadata": {},
     "output_type": "execute_result"
    }
   ],
   "source": [
    "## Negative indexing is used to access an array from the end\n",
    "arr4= np.array([[1,2,3,4,5], [6,7,8,9,10]])\n",
    "#print Last element from 2nd dim:\n",
    "arr4[1,-1]"
   ]
  },
  {
   "cell_type": "markdown",
   "id": "c1b8f427",
   "metadata": {},
   "source": [
    "#### Array Slicing\n",
    "\n",
    "- Slicing in python means taking elements from one given index to another given index\n",
    "- We may pass slice instead of index like this: `[start:end]`\n",
    "- We can also define the step: `[start:end:step]`\n",
    "- If we don't pass start it's considered 0\n",
    "- If we don't pass end it considers length of array in that dimension\n",
    "- If we don't pass step it's considered 1"
   ]
  },
  {
   "cell_type": "code",
   "execution_count": 28,
   "id": "ab53e06a",
   "metadata": {},
   "outputs": [],
   "source": [
    "arr5 = np.array([1, 2, 3, 4, 5, 6, 7])"
   ]
  },
  {
   "cell_type": "markdown",
   "id": "65eb48bf",
   "metadata": {},
   "source": [
    "The result includes the start index, but excludes the end index"
   ]
  },
  {
   "cell_type": "code",
   "execution_count": 29,
   "id": "3ed1f58e",
   "metadata": {},
   "outputs": [
    {
     "data": {
      "text/plain": [
       "array([5, 6, 7])"
      ]
     },
     "execution_count": 29,
     "metadata": {},
     "output_type": "execute_result"
    }
   ],
   "source": [
    "## Slicing elements from index 4 to the end of the array\n",
    "arr5[4:]"
   ]
  },
  {
   "cell_type": "code",
   "execution_count": 30,
   "id": "d88a1086",
   "metadata": {},
   "outputs": [
    {
     "data": {
      "text/plain": [
       "array([1, 2, 3, 4])"
      ]
     },
     "execution_count": 30,
     "metadata": {},
     "output_type": "execute_result"
    }
   ],
   "source": [
    "## Slicing elements from the beginning to index 4 (not included)\n",
    "arr5[:4]"
   ]
  },
  {
   "cell_type": "code",
   "execution_count": 31,
   "id": "086436fb",
   "metadata": {},
   "outputs": [
    {
     "data": {
      "text/plain": [
       "array([5, 6])"
      ]
     },
     "execution_count": 31,
     "metadata": {},
     "output_type": "execute_result"
    }
   ],
   "source": [
    "## Negative Slicing - use the minus operator to refer to an index from the end\n",
    "## Slicing from the index 3 from the end to index 1 from the end\n",
    "arr5[-3:-1]"
   ]
  },
  {
   "cell_type": "code",
   "execution_count": 32,
   "id": "a03f4a9b",
   "metadata": {},
   "outputs": [
    {
     "data": {
      "text/plain": [
       "array([2, 4])"
      ]
     },
     "execution_count": 32,
     "metadata": {},
     "output_type": "execute_result"
    }
   ],
   "source": [
    "## Using the step value to determine the step of the slicing\n",
    "## Returning every other element from index 1 to index 5\n",
    "arr5[1:5:2]"
   ]
  },
  {
   "cell_type": "code",
   "execution_count": 33,
   "id": "08fc1560",
   "metadata": {},
   "outputs": [
    {
     "data": {
      "text/plain": [
       "array([1, 3, 5, 7])"
      ]
     },
     "execution_count": 33,
     "metadata": {},
     "output_type": "execute_result"
    }
   ],
   "source": [
    "## Returning every other element from the entire array\n",
    "arr5[::2]"
   ]
  },
  {
   "cell_type": "code",
   "execution_count": 34,
   "id": "3d266d28",
   "metadata": {},
   "outputs": [
    {
     "data": {
      "text/plain": [
       "array([7, 8, 9])"
      ]
     },
     "execution_count": 34,
     "metadata": {},
     "output_type": "execute_result"
    }
   ],
   "source": [
    "## Slicing 2D arrays\n",
    "## From the second element, slicing elements from index 1 to index 4 (not included)\n",
    "arr6 = np.array([[1, 2, 3, 4, 5], [6, 7, 8, 9, 10]])\n",
    "arr6[1,1:4]"
   ]
  },
  {
   "cell_type": "code",
   "execution_count": 39,
   "id": "4ed90acb",
   "metadata": {},
   "outputs": [
    {
     "data": {
      "text/plain": [
       "array([3, 8])"
      ]
     },
     "execution_count": 39,
     "metadata": {},
     "output_type": "execute_result"
    }
   ],
   "source": [
    "## Returning index 2 element from both 1 dimensional array objects\n",
    "arr6[0:2,2] # output array object\n",
    "#arr6[0,2],arr6[1,2] #output tuple object"
   ]
  },
  {
   "cell_type": "code",
   "execution_count": 37,
   "id": "e87d8a4a",
   "metadata": {},
   "outputs": [
    {
     "name": "stdout",
     "output_type": "stream",
     "text": [
      "3\n",
      "8\n"
     ]
    }
   ],
   "source": [
    "print(arr6[0,2])\n",
    "print(arr6[1,2])"
   ]
  },
  {
   "cell_type": "code",
   "execution_count": 40,
   "id": "c7faca7d",
   "metadata": {},
   "outputs": [
    {
     "data": {
      "text/plain": [
       "array([[ 2,  3,  4,  5],\n",
       "       [ 7,  8,  9, 10]])"
      ]
     },
     "execution_count": 40,
     "metadata": {},
     "output_type": "execute_result"
    }
   ],
   "source": [
    "### Slicing index 1 to index 4 from both elements\\\n",
    "arr6[:,1:5]"
   ]
  },
  {
   "cell_type": "markdown",
   "id": "ad8207fc",
   "metadata": {},
   "source": [
    "#### NumPy Data Types\n",
    "\n",
    "- i - integer\n",
    "- b - boolean\n",
    "- u - unsigned integer\n",
    "- f - float\n",
    "- c - complex float\n",
    "- m - timedelta\n",
    "- M - datetime\n",
    "- O - object\n",
    "- S - string\n",
    "- U - unicode string\n",
    "- V - fixed chunk of memory for other type ( void )\n",
    "\n",
    "##### Checking the Data Type of an Array elements\n",
    "The NumPy array object has a property called dtype that returns the data type of the array elements"
   ]
  },
  {
   "cell_type": "code",
   "execution_count": 41,
   "id": "3d5396cc",
   "metadata": {},
   "outputs": [
    {
     "data": {
      "text/plain": [
       "dtype('int32')"
      ]
     },
     "execution_count": 41,
     "metadata": {},
     "output_type": "execute_result"
    }
   ],
   "source": [
    "arr7 = np.array([1, 2, 3, 4])\n",
    "arr7.dtype"
   ]
  },
  {
   "cell_type": "code",
   "execution_count": 42,
   "id": "8faa2e8a",
   "metadata": {},
   "outputs": [
    {
     "data": {
      "text/plain": [
       "dtype('<U6')"
      ]
     },
     "execution_count": 42,
     "metadata": {},
     "output_type": "execute_result"
    }
   ],
   "source": [
    "arr8 = np.array(['apple', 'orange', 'cherry']) # object data type <U6\n",
    "arr8.dtype"
   ]
  },
  {
   "cell_type": "code",
   "execution_count": 45,
   "id": "179ebbf7",
   "metadata": {},
   "outputs": [
    {
     "name": "stdout",
     "output_type": "stream",
     "text": [
      "int32\n",
      "|S3\n"
     ]
    }
   ],
   "source": [
    "## Creating Arrays With a Defined Data Type\n",
    "## The array() function can take an optional argument \"dtype\" \n",
    "## that allows us to define the expected data type of the array elements\\\n",
    "arr9=np.array([1,6,7,8],dtype='i4') #4 byte integer\n",
    "print(arr9.dtype)\n",
    "## Creating an array with data type string\n",
    "arr10=np.array(['1','hi','wel'],dtype='S')\n",
    "print(arr10.dtype)"
   ]
  },
  {
   "cell_type": "markdown",
   "id": "318792e7",
   "metadata": {},
   "source": [
    "For i, u, f, S and U we can define size as well"
   ]
  },
  {
   "cell_type": "code",
   "execution_count": 46,
   "id": "8e7ebcda",
   "metadata": {},
   "outputs": [],
   "source": [
    "## Creating an array with data type 4 bytes integer\n",
    "arr9=np.array([1,6,7,8],dtype='i4')"
   ]
  },
  {
   "cell_type": "code",
   "execution_count": 47,
   "id": "09db4287",
   "metadata": {},
   "outputs": [
    {
     "data": {
      "text/plain": [
       "dtype('float64')"
      ]
     },
     "execution_count": 47,
     "metadata": {},
     "output_type": "execute_result"
    }
   ],
   "source": [
    "## Converting Data Type on Existing Arrays\n",
    "## Make a copy of the array with the astype() method\n",
    "## The astype() function creates a copy of the array, and allows you to specify the data type as a parameter\n",
    "arr11 = np.array([1.1, 2.1, 3.1])\n",
    "arr11.dtype"
   ]
  },
  {
   "cell_type": "code",
   "execution_count": 49,
   "id": "ad86879e",
   "metadata": {},
   "outputs": [
    {
     "data": {
      "text/plain": [
       "dtype('int32')"
      ]
     },
     "execution_count": 49,
     "metadata": {},
     "output_type": "execute_result"
    }
   ],
   "source": [
    "newarr=arr11.astype(int)\n",
    "newarr.dtype"
   ]
  },
  {
   "cell_type": "code",
   "execution_count": 51,
   "id": "340fc01f",
   "metadata": {},
   "outputs": [
    {
     "data": {
      "text/plain": [
       "dtype('int32')"
      ]
     },
     "execution_count": 51,
     "metadata": {},
     "output_type": "execute_result"
    }
   ],
   "source": [
    "## Alternative way\n",
    "newarr=arr11.astype('i4')\n",
    "newarr.dtype"
   ]
  },
  {
   "cell_type": "markdown",
   "id": "d8d0fcd9",
   "metadata": {},
   "source": [
    "#### NumPy Array Copy vs View\n",
    "\n",
    "- The main difference between a copy and a view of an array is that the copy is a new array, and the view is just a view of the original array\n",
    "\n",
    "- The copy owns the data and any changes made to the copy will not affect original array, and any changes made to the original array will not affect the copy\n",
    "\n",
    "- The view does not own the data and any changes made to the view will affect the original array, and any changes made to the original array will affect the view"
   ]
  },
  {
   "cell_type": "code",
   "execution_count": 52,
   "id": "71faa16f",
   "metadata": {},
   "outputs": [],
   "source": [
    "## Making a copy, changing the original array, and displaying both arrays\n",
    "arr12 = np.array([1, 2, 3, 4, 5])"
   ]
  },
  {
   "cell_type": "code",
   "execution_count": 53,
   "id": "bd0343bb",
   "metadata": {},
   "outputs": [
    {
     "name": "stdout",
     "output_type": "stream",
     "text": [
      "[1 2 3 4 5]\n",
      "[34  2  3  4  5]\n"
     ]
    }
   ],
   "source": [
    "## Making a view, changing the original array, and displaying both arrays\n",
    "x=arr12.copy()\n",
    "arr12[0]=34\n",
    "print(x)\n",
    "print(arr12)"
   ]
  },
  {
   "cell_type": "code",
   "execution_count": 55,
   "id": "de993d4b",
   "metadata": {},
   "outputs": [
    {
     "name": "stdout",
     "output_type": "stream",
     "text": [
      "[34 56  3  4  5]\n",
      "[34 56  3  4  5]\n"
     ]
    }
   ],
   "source": [
    "y=arr12.view()\n",
    "arr12[1]=56\n",
    "print(y)\n",
    "print(arr12)"
   ]
  },
  {
   "cell_type": "markdown",
   "id": "2fdc6bfe",
   "metadata": {},
   "source": [
    "#### Shape of an Array\n",
    "\n",
    "- The shape of an array is the number of elements in each dimension\n",
    "- NumPy arrays have an attribute called shape that returns a tuple with each index having the number of corresponding elements"
   ]
  },
  {
   "cell_type": "code",
   "execution_count": 56,
   "id": "7e98e1b7",
   "metadata": {},
   "outputs": [
    {
     "data": {
      "text/plain": [
       "(2, 4)"
      ]
     },
     "execution_count": 56,
     "metadata": {},
     "output_type": "execute_result"
    }
   ],
   "source": [
    "## Printing the shape of a 2-D array\n",
    "arr13 = np.array([[1, 2, 3, 4], [5, 6, 7, 8]])\n",
    "arr13.shape"
   ]
  },
  {
   "cell_type": "code",
   "execution_count": 57,
   "id": "bff5d036",
   "metadata": {},
   "outputs": [
    {
     "name": "stdout",
     "output_type": "stream",
     "text": [
      "[[1 2 3 4]\n",
      " [5 6 7 8]]\n"
     ]
    }
   ],
   "source": [
    "print(arr13)"
   ]
  },
  {
   "cell_type": "markdown",
   "id": "21777356",
   "metadata": {},
   "source": [
    "The example above returns (2, 4), which means that the array has 2 dimensions, and each dimension has 4 elements."
   ]
  },
  {
   "cell_type": "code",
   "execution_count": 58,
   "id": "a028d715",
   "metadata": {},
   "outputs": [
    {
     "data": {
      "text/plain": [
       "(1, 1, 1, 1, 4)"
      ]
     },
     "execution_count": 58,
     "metadata": {},
     "output_type": "execute_result"
    }
   ],
   "source": [
    "arr14 = np.array([1, 2, 3, 4], ndmin=5)\n",
    "arr14.shape"
   ]
  },
  {
   "cell_type": "markdown",
   "id": "61f95cac",
   "metadata": {},
   "source": [
    "Integers at every index tells about the number of elements the corresponding dimension has.\n",
    "\n",
    "In the above case at index-4 we have value 4, so we can say that 5th ( 4 + 1 th) dimension has 4 elements."
   ]
  },
  {
   "cell_type": "markdown",
   "id": "331e9429",
   "metadata": {},
   "source": [
    "#### Reshaping Arrays\n",
    "\n",
    "- Reshaping means changing the shape of an array\n",
    "- By reshaping we can add or remove dimensions or change number of elements in each dimension"
   ]
  },
  {
   "cell_type": "code",
   "execution_count": 62,
   "id": "0859126c",
   "metadata": {},
   "outputs": [
    {
     "name": "stdout",
     "output_type": "stream",
     "text": [
      "(4, 3)\n",
      "[[ 1  2  3]\n",
      " [ 4  5  6]\n",
      " [ 7  8  9]\n",
      " [10 11 12]]\n"
     ]
    }
   ],
   "source": [
    "## Converting a 1-D array with 12 elements into a 2-D array\n",
    "## such that the outermost dimension will have 4 arrays, each with 3 elements\n",
    "arr15 = np.array([1, 2, 3, 4, 5, 6, 7, 8, 9, 10, 11, 12])\n",
    "arr16=arr15.reshape(4,3)\n",
    "print(arr16.shape)\n",
    "print(arr16)"
   ]
  },
  {
   "cell_type": "code",
   "execution_count": 63,
   "id": "6e09c69b",
   "metadata": {},
   "outputs": [
    {
     "name": "stdout",
     "output_type": "stream",
     "text": [
      "[[[ 1  2]\n",
      "  [ 3  4]\n",
      "  [ 5  6]]\n",
      "\n",
      " [[ 7  8]\n",
      "  [ 9 10]\n",
      "  [11 12]]]\n",
      "(2, 3, 2)\n"
     ]
    }
   ],
   "source": [
    "## Converting a 1-D array with 12 elements into a 3-D array\n",
    "## such that the outermost dimension will have 2 arrays that contains 3 arrays, each with 2 elements\n",
    "\n",
    "arr17 = np.array([1, 2, 3, 4, 5, 6, 7, 8, 9, 10, 11, 12])\n",
    "arr17=arr17.reshape(2,3,2)\n",
    "print(arr17);print(arr17.shape)"
   ]
  },
  {
   "cell_type": "markdown",
   "id": "204c2144",
   "metadata": {},
   "source": [
    "Note: We can reshape an array into any shape as long as the elements required for reshaping are equal in both shapes\n",
    "\n",
    "For eg, we can reshape an 8 elements 1D array into 4 elements in 2 rows 2D array but we cannot reshape it into a 3 elements 3 rows 2D array as that would require 3x3 = 9 elements"
   ]
  },
  {
   "cell_type": "code",
   "execution_count": 65,
   "id": "ad2b2eef",
   "metadata": {},
   "outputs": [
    {
     "data": {
      "text/plain": [
       "array([1, 2, 3, 4, 5, 6])"
      ]
     },
     "execution_count": 65,
     "metadata": {},
     "output_type": "execute_result"
    }
   ],
   "source": [
    "## Flattening array - converting a multidimensional array into a 1D array\n",
    "\n",
    "arr18 = np.array([[1, 2, 3], [4, 5, 6]])\n",
    "arr19=arr18.reshape(-1)\n",
    "arr19"
   ]
  },
  {
   "cell_type": "markdown",
   "id": "cd595115",
   "metadata": {},
   "source": [
    "#### Sorting Arrays\n",
    "\n",
    "Arranging elements of a NumPy ndarray object in an ordered sequence is achieved by a function called sort() "
   ]
  },
  {
   "cell_type": "code",
   "execution_count": 66,
   "id": "7dd2e3e2",
   "metadata": {},
   "outputs": [
    {
     "data": {
      "text/plain": [
       "array([0, 1, 2, 3])"
      ]
     },
     "execution_count": 66,
     "metadata": {},
     "output_type": "execute_result"
    }
   ],
   "source": [
    "arr20 = np.array([3, 2, 0, 1])\n",
    "np.sort(arr20)"
   ]
  },
  {
   "cell_type": "code",
   "execution_count": 67,
   "id": "667cc632",
   "metadata": {},
   "outputs": [
    {
     "data": {
      "text/plain": [
       "array([3, 2, 0, 1])"
      ]
     },
     "execution_count": 67,
     "metadata": {},
     "output_type": "execute_result"
    }
   ],
   "source": [
    "arr20"
   ]
  },
  {
   "cell_type": "markdown",
   "id": "510fe1a9",
   "metadata": {},
   "source": [
    "This method returns a copy of the array, leaving the original array unchanged"
   ]
  },
  {
   "cell_type": "code",
   "execution_count": 69,
   "id": "bac5a45f",
   "metadata": {},
   "outputs": [
    {
     "data": {
      "text/plain": [
       "array(['apple', 'banana', 'cherry'], dtype='<U6')"
      ]
     },
     "execution_count": 69,
     "metadata": {},
     "output_type": "execute_result"
    }
   ],
   "source": [
    "## Sorting the array alphabetically\n",
    "arr21 = np.array(['banana', 'cherry', 'apple'])\n",
    "np.sort(arr21)"
   ]
  },
  {
   "cell_type": "code",
   "execution_count": 70,
   "id": "cb4ddfc9",
   "metadata": {},
   "outputs": [
    {
     "data": {
      "text/plain": [
       "array([[2, 3, 4],\n",
       "       [0, 1, 5]])"
      ]
     },
     "execution_count": 70,
     "metadata": {},
     "output_type": "execute_result"
    }
   ],
   "source": [
    "## Using the sort() method on a 2-D array will render both arrays sorted\n",
    "arr22= np.array([[3, 2, 4], [5, 0, 1]])\n",
    "np.sort(arr22)"
   ]
  },
  {
   "cell_type": "markdown",
   "id": "93b93215",
   "metadata": {},
   "source": [
    "Note: np. sort() function does not allow us to sort an array in descending order"
   ]
  },
  {
   "cell_type": "markdown",
   "id": "468a7112",
   "metadata": {},
   "source": [
    "#### Searching Arrays\n",
    "\n",
    "You can search an array for a certain value, and return the indexes that get a match using the where() method"
   ]
  },
  {
   "cell_type": "code",
   "execution_count": 71,
   "id": "570bb642",
   "metadata": {},
   "outputs": [
    {
     "data": {
      "text/plain": [
       "(array([3, 5, 6], dtype=int64),)"
      ]
     },
     "execution_count": 71,
     "metadata": {},
     "output_type": "execute_result"
    }
   ],
   "source": [
    "## Finding the indexes where the value is 4\n",
    "arr23 = np.array([1, 2, 3, 4, 5, 4, 4])\n",
    "np.where(arr23==4)"
   ]
  },
  {
   "cell_type": "code",
   "execution_count": 72,
   "id": "78a3d5ab",
   "metadata": {},
   "outputs": [
    {
     "data": {
      "text/plain": [
       "(array([1, 3, 5, 7], dtype=int64),)"
      ]
     },
     "execution_count": 72,
     "metadata": {},
     "output_type": "execute_result"
    }
   ],
   "source": [
    "## Finding the indexes where the values are even\n",
    "arr24 = np.array([1, 2, 3, 4, 5, 6, 7, 8])\n",
    "np.where(arr24%2==0)"
   ]
  },
  {
   "cell_type": "markdown",
   "id": "1da21eb5",
   "metadata": {},
   "source": [
    "#### Joining NumPy Arrays \n",
    "\n",
    "- Joining means putting contents of two or more arrays in a single array\n",
    "- In SQL we join tables based on a key, whereas in NumPy we join arrays by axes\n",
    "- We pass a sequence of arrays that we want to join to the concatenate() function, along with the axis; if axis is not explicitly passed, it is taken as 0.\n"
   ]
  },
  {
   "cell_type": "code",
   "execution_count": 74,
   "id": "2a640fbb",
   "metadata": {},
   "outputs": [
    {
     "name": "stdout",
     "output_type": "stream",
     "text": [
      "[1 2 3]\n",
      "[4 5 6]\n",
      "[1 2 3 4 5 6]\n"
     ]
    }
   ],
   "source": [
    "arr1 = np.array([1, 2, 3])\n",
    "arr2 = np.array([4, 5, 6])\n",
    "print(arr1)\n",
    "print(arr2)\n",
    "arr3=np.concatenate((arr1,arr2)) # by default axis =0\n",
    "print(arr3)"
   ]
  },
  {
   "cell_type": "code",
   "execution_count": 75,
   "id": "56c9ada1",
   "metadata": {},
   "outputs": [
    {
     "name": "stdout",
     "output_type": "stream",
     "text": [
      "[[1 2]\n",
      " [3 4]]\n",
      "[[5 6]\n",
      " [7 8]]\n",
      "[[1 2 5 6]\n",
      " [3 4 7 8]]\n"
     ]
    }
   ],
   "source": [
    "## Joining two 2-D arrays along rows (axis=1)\n",
    "\n",
    "arr1 = np.array([[1, 2], [3, 4]])\n",
    "arr2 = np.array([[5, 6], [7, 8]])\n",
    "print(arr1)\n",
    "print(arr2)\n",
    "arr3=np.concatenate((arr1,arr2),axis=1)\n",
    "print(arr3)"
   ]
  },
  {
   "cell_type": "markdown",
   "id": "10c92c0a",
   "metadata": {},
   "source": [
    "#### Joining Arrays Using Stack Functions\n",
    "\n",
    "- Stacking is same as concatenation, the only difference is that stacking is done along a new axis\n",
    "- We can concatenate two 1-D arrays along the second axis which would result in putting them one over the other, ie. stacking\n",
    "- We pass a sequence of arrays that we want to join to the stack() method along with the axis; if axis is not explicitly passed it is taken as 0\n",
    "![download%20%286%29.png](attachment:download%20%286%29.png)"
   ]
  },
  {
   "cell_type": "code",
   "execution_count": 76,
   "id": "ab4fd22f",
   "metadata": {},
   "outputs": [
    {
     "data": {
      "text/plain": [
       "array([[1, 2, 3],\n",
       "       [4, 5, 6]])"
      ]
     },
     "execution_count": 76,
     "metadata": {},
     "output_type": "execute_result"
    }
   ],
   "source": [
    "arr1 = np.array([1, 2, 3])\n",
    "arr2 = np.array([4, 5, 6])\n",
    "np.stack((arr1,arr2))"
   ]
  },
  {
   "cell_type": "code",
   "execution_count": 77,
   "id": "bb76a904",
   "metadata": {},
   "outputs": [
    {
     "data": {
      "text/plain": [
       "array([[1, 4],\n",
       "       [2, 5],\n",
       "       [3, 6]])"
      ]
     },
     "execution_count": 77,
     "metadata": {},
     "output_type": "execute_result"
    }
   ],
   "source": [
    "np.stack((arr1,arr2),axis=1)"
   ]
  },
  {
   "cell_type": "markdown",
   "id": "a5ac9772",
   "metadata": {},
   "source": [
    "np.hstack combines NumPy arrays horizontally and np. vstack combines arrays vertically\n",
    "![download%20%285%29.png](attachment:download%20%285%29.png)axis=0"
   ]
  },
  {
   "cell_type": "code",
   "execution_count": 78,
   "id": "a5489788",
   "metadata": {},
   "outputs": [
    {
     "data": {
      "text/plain": [
       "array([1, 2, 3, 4, 5, 6])"
      ]
     },
     "execution_count": 78,
     "metadata": {},
     "output_type": "execute_result"
    }
   ],
   "source": [
    "## Stacking Along Rows - hstack()\n",
    "\n",
    "arr1 = np.array([1, 2, 3])\n",
    "arr2 = np.array([4, 5, 6])\n",
    "np.hstack((arr1,arr2))"
   ]
  },
  {
   "cell_type": "code",
   "execution_count": 79,
   "id": "92c263c5",
   "metadata": {},
   "outputs": [
    {
     "data": {
      "text/plain": [
       "array([[1, 2, 3],\n",
       "       [4, 5, 6]])"
      ]
     },
     "execution_count": 79,
     "metadata": {},
     "output_type": "execute_result"
    }
   ],
   "source": [
    "## Stacking Along Columns - vstack()\n",
    "\n",
    "arr1 = np.array([1, 2, 3])\n",
    "arr2 = np.array([4, 5, 6])\n",
    "np.vstack((arr1,arr2))"
   ]
  },
  {
   "cell_type": "markdown",
   "id": "8c629a74",
   "metadata": {},
   "source": [
    "#### Splitting NumPy Arrays\n",
    "\n",
    "- Splitting is reverse operation of Joining, that is breaks one array into multiple arrays\n",
    "- We use array_split() for splitting arrays, we pass it the array we want to split and the number of splits"
   ]
  },
  {
   "cell_type": "code",
   "execution_count": 80,
   "id": "d1c96c6c",
   "metadata": {},
   "outputs": [
    {
     "data": {
      "text/plain": [
       "[array([1, 2]), array([3, 4]), array([5, 6])]"
      ]
     },
     "execution_count": 80,
     "metadata": {},
     "output_type": "execute_result"
    }
   ],
   "source": [
    "## Splitting the array in 3 parts\n",
    "arr25 = np.array([1, 2, 3, 4, 5, 6])\n",
    "np.array_split(arr25,3)"
   ]
  },
  {
   "cell_type": "markdown",
   "id": "251543f0",
   "metadata": {},
   "source": [
    "The return value is an array containing three arrays"
   ]
  },
  {
   "cell_type": "code",
   "execution_count": 81,
   "id": "937bbd3f",
   "metadata": {},
   "outputs": [
    {
     "data": {
      "text/plain": [
       "[array([1, 2]), array([3, 4]), array([5]), array([6])]"
      ]
     },
     "execution_count": 81,
     "metadata": {},
     "output_type": "execute_result"
    }
   ],
   "source": [
    "## If the array has less elements than required, it will adjust from the end accordingly\n",
    "## Splitting the array in 4 parts\n",
    "arr26 = np.array([1, 2, 3, 4, 5, 6])\n",
    "np.array_split(arr26,4)"
   ]
  },
  {
   "cell_type": "markdown",
   "id": "3856bd60",
   "metadata": {},
   "source": [
    "We also have the method split() available but it will not adjust the elements when elements are less in source array for splitting like in example above, array_split() worked properly but split() would fail."
   ]
  },
  {
   "cell_type": "code",
   "execution_count": 84,
   "id": "21f2e221",
   "metadata": {},
   "outputs": [
    {
     "name": "stdout",
     "output_type": "stream",
     "text": [
      "[array([1, 2]), array([3, 4]), array([5, 6])]\n",
      "[1 2]\n",
      "[3 4]\n"
     ]
    }
   ],
   "source": [
    "## The return value of the array_split() method is an array containing each of the split as an array\n",
    "## If you split an array into 3 arrays, you can access them from the result just like any array element\n",
    "arr27= np.array([1, 2, 3, 4, 5, 6])\n",
    "arr27=np.array_split(arr27,3)\n",
    "print(arr27)\n",
    "print(arr27[0])\n",
    "print(arr27[1])"
   ]
  },
  {
   "cell_type": "code",
   "execution_count": 85,
   "id": "ec2a33aa",
   "metadata": {},
   "outputs": [
    {
     "data": {
      "text/plain": [
       "[array([[1, 2],\n",
       "        [3, 4]]),\n",
       " array([[5, 6],\n",
       "        [7, 8]]),\n",
       " array([[ 9, 10],\n",
       "        [11, 12]])]"
      ]
     },
     "execution_count": 85,
     "metadata": {},
     "output_type": "execute_result"
    }
   ],
   "source": [
    "## Splitting a 2-D array into three 2-D arrays\n",
    "arr28 = np.array([[1, 2], [3, 4], [5, 6], [7, 8], [9, 10], [11, 12]])\n",
    "np.array_split(arr28,3)"
   ]
  },
  {
   "cell_type": "markdown",
   "id": "4c62eb4b",
   "metadata": {},
   "source": [
    "#### NumPy Arithmetic Operations\n",
    "\n",
    "Input arrays for performing arithmetic operations such as add(), subtract(), multiply(), and divide() must be either of the same shape or should conform to array broadcasting rules"
   ]
  },
  {
   "cell_type": "code",
   "execution_count": 86,
   "id": "c6bf1a3b",
   "metadata": {},
   "outputs": [],
   "source": [
    "arr1 = np.array([[1,2,3],[4,5,6]])\n",
    "arr2 = np.array([[7,8,9],[10,11,12]])"
   ]
  },
  {
   "cell_type": "code",
   "execution_count": 87,
   "id": "1a62be84",
   "metadata": {},
   "outputs": [
    {
     "name": "stdout",
     "output_type": "stream",
     "text": [
      "[[ 8 10 12]\n",
      " [14 16 18]]\n"
     ]
    }
   ],
   "source": [
    "## Adding the two arrays\n",
    "print(np.add(arr1,arr2))"
   ]
  },
  {
   "cell_type": "code",
   "execution_count": 88,
   "id": "a5013799",
   "metadata": {},
   "outputs": [
    {
     "name": "stdout",
     "output_type": "stream",
     "text": [
      "[[-6 -6 -6]\n",
      " [-6 -6 -6]]\n"
     ]
    }
   ],
   "source": [
    "# ## Subtracting one array from the other\n",
    "print(np.subtract(arr1,arr2))"
   ]
  },
  {
   "cell_type": "code",
   "execution_count": 89,
   "id": "7199f13f",
   "metadata": {},
   "outputs": [
    {
     "name": "stdout",
     "output_type": "stream",
     "text": [
      "[[ 7 16 27]\n",
      " [40 55 72]]\n"
     ]
    }
   ],
   "source": [
    "## Multiplying the two arrays\n",
    "print(np.multiply(arr1,arr2))"
   ]
  },
  {
   "cell_type": "code",
   "execution_count": 90,
   "id": "221efdb5",
   "metadata": {},
   "outputs": [
    {
     "name": "stdout",
     "output_type": "stream",
     "text": [
      "[[0.14285714 0.25       0.33333333]\n",
      " [0.4        0.45454545 0.5       ]]\n"
     ]
    }
   ],
   "source": [
    "## Dividing one array by the other\n",
    "print(np.divide(arr1,arr2))"
   ]
  },
  {
   "cell_type": "markdown",
   "id": "f10b68cc",
   "metadata": {},
   "source": [
    "##### numpy.power()\n",
    "\n",
    "This function treats elements in the first input array as base and returns it raised to the power of the corresponding element in the second input array."
   ]
  },
  {
   "cell_type": "code",
   "execution_count": 91,
   "id": "19de5b55",
   "metadata": {},
   "outputs": [
    {
     "name": "stdout",
     "output_type": "stream",
     "text": [
      "[    100   10000 1000000]\n"
     ]
    }
   ],
   "source": [
    "a = np.array([10,100,1000])\n",
    "print(np.power(a,2))"
   ]
  },
  {
   "cell_type": "code",
   "execution_count": 92,
   "id": "907a94da",
   "metadata": {},
   "outputs": [
    {
     "name": "stdout",
     "output_type": "stream",
     "text": [
      "[        10      10000 1000000000]\n"
     ]
    }
   ],
   "source": [
    "b = np.array([1,2,3])\n",
    "print(np.power(a,b))"
   ]
  },
  {
   "cell_type": "markdown",
   "id": "bfd3b9f2",
   "metadata": {},
   "source": [
    "##### numpy.mod()\n",
    "\n",
    "Returns the remainder of division of the corresponding elements in the input array; the function numpy.remainder() also produces the same result"
   ]
  },
  {
   "cell_type": "code",
   "execution_count": 93,
   "id": "00dcd3b2",
   "metadata": {},
   "outputs": [
    {
     "name": "stdout",
     "output_type": "stream",
     "text": [
      "Applying mod() function:  [1 0 2]\n",
      "Applying remainder() function:  [1 0 2]\n"
     ]
    }
   ],
   "source": [
    "a = np.array([10,20,30]) \n",
    "b = np.array([3,5,7])\n",
    "\n",
    "print(\"Applying mod() function: \", np.mod(a,b))\n",
    "print(\"Applying remainder() function: \", np.remainder(a,b))"
   ]
  },
  {
   "cell_type": "markdown",
   "id": "3d0725a7",
   "metadata": {},
   "source": [
    "#### NumPy Matrix Operations\n",
    "\n",
    "- A matrix is a specialized 2-D array that retains its 2-D nature through operations\n",
    "- Some popular matrix operations include additon, multiplication, transpose, determinant, rank and so on"
   ]
  },
  {
   "cell_type": "code",
   "execution_count": 94,
   "id": "09ec4555",
   "metadata": {},
   "outputs": [
    {
     "name": "stdout",
     "output_type": "stream",
     "text": [
      "[[ 2  4]\n",
      " [ 5 -6]]\n",
      "[[ 9 -3]\n",
      " [ 3  6]]\n",
      "[[11  1]\n",
      " [ 8  0]]\n"
     ]
    }
   ],
   "source": [
    "## Addition of two matrices\n",
    "\n",
    "A = np.array([[2, 4], [5, -6]])\n",
    "B = np.array([[9, -3], [3, 6]])\n",
    "print(A)\n",
    "print(B)\n",
    "P=A+B  #np.add(A,B)\n",
    "print(P)"
   ]
  },
  {
   "cell_type": "code",
   "execution_count": 95,
   "id": "4f4df1d7",
   "metadata": {},
   "outputs": [
    {
     "name": "stdout",
     "output_type": "stream",
     "text": [
      "[[ 30  18]\n",
      " [ 27 -51]]\n"
     ]
    }
   ],
   "source": [
    "# Matrix multiplication\n",
    "C=np.dot(A,B)\n",
    "print(C)"
   ]
  },
  {
   "cell_type": "code",
   "execution_count": 96,
   "id": "2bf99674",
   "metadata": {},
   "outputs": [
    {
     "name": "stdout",
     "output_type": "stream",
     "text": [
      "Original array: \n",
      " [[ 1  1]\n",
      " [ 2  1]\n",
      " [ 3 -3]]\n",
      "\n",
      "Transpose of the array: \n",
      " [[ 1  2  3]\n",
      " [ 1  1 -3]]\n"
     ]
    }
   ],
   "source": [
    "## Transpose of a matrix\n",
    "arr = np.array([[1, 1], [2, 1], [3, -3]])\n",
    "print(\"Original array: \\n\", arr)\n",
    "print(\"\\nTranspose of the array: \\n\", arr.transpose())"
   ]
  },
  {
   "cell_type": "code",
   "execution_count": 97,
   "id": "0020ab15",
   "metadata": {},
   "outputs": [
    {
     "name": "stdout",
     "output_type": "stream",
     "text": [
      "[[ 1  2  3]\n",
      " [ 1  1 -3]]\n"
     ]
    }
   ],
   "source": [
    "## Alternative method of transposition\n",
    "print(arr.T)"
   ]
  },
  {
   "cell_type": "code",
   "execution_count": 98,
   "id": "b416f66e",
   "metadata": {},
   "outputs": [
    {
     "name": "stdout",
     "output_type": "stream",
     "text": [
      "[[ 1.41421356  2.          3.        ]\n",
      " [11.         10.          2.82842712]]\n"
     ]
    }
   ],
   "source": [
    "## Square root of each matrix element\n",
    "arr = np.array([[2,4,9],[121,100,8]])\n",
    "print(np.sqrt(arr))"
   ]
  }
 ],
 "metadata": {
  "kernelspec": {
   "display_name": "Python 3 (ipykernel)",
   "language": "python",
   "name": "python3"
  },
  "language_info": {
   "codemirror_mode": {
    "name": "ipython",
    "version": 3
   },
   "file_extension": ".py",
   "mimetype": "text/x-python",
   "name": "python",
   "nbconvert_exporter": "python",
   "pygments_lexer": "ipython3",
   "version": "3.9.12"
  }
 },
 "nbformat": 4,
 "nbformat_minor": 5
}
